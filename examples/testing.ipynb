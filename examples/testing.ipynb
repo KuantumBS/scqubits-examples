{
 "cells": [
  {
   "cell_type": "code",
   "execution_count": 1,
   "metadata": {},
   "outputs": [
    {
     "name": "stdout",
     "output_type": "stream",
     "text": [
      "================================================= test session starts =================================================\n",
      "platform win32 -- Python 3.7.7, pytest-5.4.3, py-1.9.0, pluggy-0.13.1 -- C:\\Users\\drjen\\miniconda3\\python.exe\n",
      "cachedir: .pytest_cache\n",
      "rootdir: c:\\users\\drjen\\onedrive\\coding\\pycharmprojects\\scqubits\n",
      "plugins: nbsmoke-0.5.0\n",
      "collecting ... collected 66 items\n",
      "\n",
      "..\\..\\scqubits\\scqubits\\tests\\test_explorer.py::test_explorer "
     ]
    },
    {
     "data": {
      "application/vnd.jupyter.widget-view+json": {
       "model_id": "",
       "version_major": 2,
       "version_minor": 0
      },
      "text/plain": [
       "HBox(children=(FloatProgress(value=0.0, description='Bare spectra', style=ProgressStyle(description_width='ini…"
      ]
     },
     "metadata": {},
     "output_type": "display_data"
    },
    {
     "data": {
      "application/vnd.jupyter.widget-view+json": {
       "model_id": "",
       "version_major": 2,
       "version_minor": 0
      },
      "text/plain": [
       "HBox(children=(FloatProgress(value=0.0, description='Dressed spectrum', style=ProgressStyle(description_width=…"
      ]
     },
     "metadata": {},
     "output_type": "display_data"
    },
    {
     "data": {
      "application/vnd.jupyter.widget-view+json": {
       "model_id": "",
       "version_major": 2,
       "version_minor": 0
      },
      "text/plain": [
       "HBox(children=(FloatProgress(value=0.0, description='data sweep', style=ProgressStyle(description_width='initi…"
      ]
     },
     "metadata": {},
     "output_type": "display_data"
    },
    {
     "data": {
      "application/vnd.jupyter.widget-view+json": {
       "model_id": "",
       "version_major": 2,
       "version_minor": 0
      },
      "text/plain": [
       "HBox(children=(FloatProgress(value=0.0, description='data sweep', style=ProgressStyle(description_width='initi…"
      ]
     },
     "metadata": {},
     "output_type": "display_data"
    },
    {
     "data": {
      "application/vnd.jupyter.widget-view+json": {
       "model_id": "",
       "version_major": 2,
       "version_minor": 0
      },
      "text/plain": [
       "HBox(children=(FloatProgress(value=0.0, description='data sweep', style=ProgressStyle(description_width='initi…"
      ]
     },
     "metadata": {},
     "output_type": "display_data"
    },
    {
     "data": {
      "application/vnd.jupyter.widget-view+json": {
       "model_id": "",
       "version_major": 2,
       "version_minor": 0
      },
      "text/plain": [
       "HBox(children=(FloatProgress(value=0.0, description='data sweep', style=ProgressStyle(description_width='initi…"
      ]
     },
     "metadata": {},
     "output_type": "display_data"
    },
    {
     "data": {
      "application/vnd.jupyter.widget-view+json": {
       "model_id": "47fced2d405142219a8db3d2b195542d",
       "version_major": 2,
       "version_minor": 0
      },
      "text/plain": [
       "HBox(children=(VBox(children=(FloatSlider(value=0.0, continuous_update=False, description='$\\\\Phi_{ext}/\\\\Phi_…"
      ]
     },
     "metadata": {},
     "output_type": "display_data"
    },
    {
     "data": {
      "application/vnd.jupyter.widget-view+json": {
       "model_id": "b7403af15f01442e9a0e7636e9028623",
       "version_major": 2,
       "version_minor": 0
      },
      "text/plain": [
       "Output()"
      ]
     },
     "metadata": {},
     "output_type": "display_data"
    },
    {
     "name": "stdout",
     "output_type": "stream",
     "text": [
      "PASSED                                             [  1%]\n",
      "..\\..\\scqubits\\scqubits\\tests\\test_fluxonium.py::TestFluxonium::test_hamiltonian_is_hermitean PASSED             [  3%]\n",
      "..\\..\\scqubits\\scqubits\\tests\\test_fluxonium.py::TestFluxonium::test_eigenvals PASSED                            [  4%]\n",
      "..\\..\\scqubits\\scqubits\\tests\\test_fluxonium.py::TestFluxonium::test_eigenvecs PASSED                            [  6%]\n",
      "..\\..\\scqubits\\scqubits\\tests\\test_fluxonium.py::TestFluxonium::test_plot_wavefunction PASSED                    [  7%]\n",
      "..\\..\\scqubits\\scqubits\\tests\\test_fluxonium.py::TestFluxonium::test_plot_evals_vs_paramvals "
     ]
    },
    {
     "data": {
      "application/vnd.jupyter.widget-view+json": {
       "model_id": "",
       "version_major": 2,
       "version_minor": 0
      },
      "text/plain": [
       "HBox(children=(FloatProgress(value=0.0, description='Spectral data', max=50.0, style=ProgressStyle(description…"
      ]
     },
     "metadata": {},
     "output_type": "display_data"
    },
    {
     "name": "stdout",
     "output_type": "stream",
     "text": [
      "PASSED              [  9%]\n",
      "..\\..\\scqubits\\scqubits\\tests\\test_fluxonium.py::TestFluxonium::test_get_spectrum_vs_paramvals "
     ]
    },
    {
     "data": {
      "application/vnd.jupyter.widget-view+json": {
       "model_id": "",
       "version_major": 2,
       "version_minor": 0
      },
      "text/plain": [
       "HBox(children=(FloatProgress(value=0.0, description='Spectral data', max=51.0, style=ProgressStyle(description…"
      ]
     },
     "metadata": {},
     "output_type": "display_data"
    },
    {
     "name": "stdout",
     "output_type": "stream",
     "text": [
      "PASSED            [ 10%]\n",
      "..\\..\\scqubits\\scqubits\\tests\\test_fluxonium.py::TestFluxonium::test_matrixelement_table PASSED                  [ 12%]\n",
      "..\\..\\scqubits\\scqubits\\tests\\test_fluxonium.py::TestFluxonium::test_plot_matrixelements PASSED                  [ 13%]\n",
      "..\\..\\scqubits\\scqubits\\tests\\test_fluxonium.py::TestFluxonium::test_print_matrixelements PASSED                 [ 15%]\n",
      "..\\..\\scqubits\\scqubits\\tests\\test_fluxonium.py::TestFluxonium::test_plot_matelem_vs_paramvals "
     ]
    },
    {
     "data": {
      "application/vnd.jupyter.widget-view+json": {
       "model_id": "",
       "version_major": 2,
       "version_minor": 0
      },
      "text/plain": [
       "HBox(children=(FloatProgress(value=0.0, description='Spectral data', max=50.0, style=ProgressStyle(description…"
      ]
     },
     "metadata": {},
     "output_type": "display_data"
    },
    {
     "data": {
      "application/vnd.jupyter.widget-view+json": {
       "model_id": "",
       "version_major": 2,
       "version_minor": 0
      },
      "text/plain": [
       "HBox(children=(FloatProgress(value=0.0, max=50.0), HTML(value='')))"
      ]
     },
     "metadata": {},
     "output_type": "display_data"
    },
    {
     "name": "stdout",
     "output_type": "stream",
     "text": [
      "PASSED            [ 16%]\n",
      "..\\..\\scqubits\\scqubits\\tests\\test_fluxonium.py::TestFluxonium::test_plot_potential SKIPPED                      [ 18%]\n",
      "..\\..\\scqubits\\scqubits\\tests\\test_fluxqubit.py::TestFluxQubit::test_hamiltonian_is_hermitean PASSED             [ 19%]\n",
      "..\\..\\scqubits\\scqubits\\tests\\test_fluxqubit.py::TestFluxQubit::test_eigenvals PASSED                            [ 21%]\n",
      "..\\..\\scqubits\\scqubits\\tests\\test_fluxqubit.py::TestFluxQubit::test_eigenvecs PASSED                            [ 22%]\n",
      "..\\..\\scqubits\\scqubits\\tests\\test_fluxqubit.py::TestFluxQubit::test_plot_wavefunction PASSED                    [ 24%]\n",
      "..\\..\\scqubits\\scqubits\\tests\\test_fluxqubit.py::TestFluxQubit::test_plot_evals_vs_paramvals "
     ]
    },
    {
     "data": {
      "application/vnd.jupyter.widget-view+json": {
       "model_id": "",
       "version_major": 2,
       "version_minor": 0
      },
      "text/plain": [
       "HBox(children=(FloatProgress(value=0.0, description='Spectral data', max=50.0, style=ProgressStyle(description…"
      ]
     },
     "metadata": {},
     "output_type": "display_data"
    },
    {
     "name": "stdout",
     "output_type": "stream",
     "text": [
      "PASSED              [ 25%]\n",
      "..\\..\\scqubits\\scqubits\\tests\\test_fluxqubit.py::TestFluxQubit::test_get_spectrum_vs_paramvals "
     ]
    },
    {
     "data": {
      "application/vnd.jupyter.widget-view+json": {
       "model_id": "",
       "version_major": 2,
       "version_minor": 0
      },
      "text/plain": [
       "HBox(children=(FloatProgress(value=0.0, description='Spectral data', max=50.0, style=ProgressStyle(description…"
      ]
     },
     "metadata": {},
     "output_type": "display_data"
    },
    {
     "name": "stdout",
     "output_type": "stream",
     "text": [
      "PASSED            [ 27%]\n",
      "..\\..\\scqubits\\scqubits\\tests\\test_fluxqubit.py::TestFluxQubit::test_matrixelement_table PASSED                  [ 28%]\n",
      "..\\..\\scqubits\\scqubits\\tests\\test_fluxqubit.py::TestFluxQubit::test_plot_matrixelements PASSED                  [ 30%]\n",
      "..\\..\\scqubits\\scqubits\\tests\\test_fluxqubit.py::TestFluxQubit::test_print_matrixelements PASSED                 [ 31%]\n",
      "..\\..\\scqubits\\scqubits\\tests\\test_fluxqubit.py::TestFluxQubit::test_plot_matelem_vs_paramvals "
     ]
    },
    {
     "data": {
      "application/vnd.jupyter.widget-view+json": {
       "model_id": "",
       "version_major": 2,
       "version_minor": 0
      },
      "text/plain": [
       "HBox(children=(FloatProgress(value=0.0, description='Spectral data', max=50.0, style=ProgressStyle(description…"
      ]
     },
     "metadata": {},
     "output_type": "display_data"
    },
    {
     "data": {
      "application/vnd.jupyter.widget-view+json": {
       "model_id": "",
       "version_major": 2,
       "version_minor": 0
      },
      "text/plain": [
       "HBox(children=(FloatProgress(value=0.0, max=50.0), HTML(value='')))"
      ]
     },
     "metadata": {},
     "output_type": "display_data"
    },
    {
     "name": "stdout",
     "output_type": "stream",
     "text": [
      "PASSED            [ 33%]\n",
      "..\\..\\scqubits\\scqubits\\tests\\test_fluxqubit.py::TestFluxQubit::test_plot_potential PASSED                       [ 34%]\n",
      "..\\..\\scqubits\\scqubits\\tests\\test_fullzeropi.py::TestFullZeroPi::test_hamiltonian_is_hermitean PASSED           [ 36%]\n",
      "..\\..\\scqubits\\scqubits\\tests\\test_fullzeropi.py::TestFullZeroPi::test_eigenvals PASSED                          [ 37%]\n",
      "..\\..\\scqubits\\scqubits\\tests\\test_hilbertspace.py::TestHilbertSpace::test_HilbertSpace_init PASSED              [ 39%]\n",
      "..\\..\\scqubits\\scqubits\\tests\\test_hilbertspace.py::TestHilbertSpace::test_HilbertSpace_hamiltonian_is_hermitean PASSED [ 40%]\n",
      "..\\..\\scqubits\\scqubits\\tests\\test_hilbertspace.py::TestHilbertSpace::test_HilbertSpace_diagonalize_hamiltonian PASSED [ 42%]\n",
      "..\\..\\scqubits\\scqubits\\tests\\test_hilbertspace.py::TestHilbertSpace::test_HilbertSpace_get_spectrum_vs_paramvals "
     ]
    },
    {
     "data": {
      "application/vnd.jupyter.widget-view+json": {
       "model_id": "",
       "version_major": 2,
       "version_minor": 0
      },
      "text/plain": [
       "HBox(children=(FloatProgress(value=0.0, description='Spectral data', style=ProgressStyle(description_width='in…"
      ]
     },
     "metadata": {},
     "output_type": "display_data"
    },
    {
     "name": "stdout",
     "output_type": "stream",
     "text": [
      "PASSED [ 43%]\n",
      "..\\..\\scqubits\\scqubits\\tests\\test_hilbertspace.py::TestHilbertSpace::test_HilbertSpace_eigenenergies PASSED     [ 45%]\n",
      "..\\..\\scqubits\\scqubits\\tests\\test_hilbertspace.py::TestParameterSweep::test_ParameterSweep "
     ]
    },
    {
     "data": {
      "application/vnd.jupyter.widget-view+json": {
       "model_id": "",
       "version_major": 2,
       "version_minor": 0
      },
      "text/plain": [
       "HBox(children=(FloatProgress(value=0.0, description='Bare spectra', style=ProgressStyle(description_width='ini…"
      ]
     },
     "metadata": {},
     "output_type": "display_data"
    },
    {
     "data": {
      "application/vnd.jupyter.widget-view+json": {
       "model_id": "",
       "version_major": 2,
       "version_minor": 0
      },
      "text/plain": [
       "HBox(children=(FloatProgress(value=0.0, description='Dressed spectrum', style=ProgressStyle(description_width=…"
      ]
     },
     "metadata": {},
     "output_type": "display_data"
    },
    {
     "data": {
      "application/vnd.jupyter.widget-view+json": {
       "model_id": "",
       "version_major": 2,
       "version_minor": 0
      },
      "text/plain": [
       "HBox(children=(FloatProgress(value=0.0, description='difference spectrum', style=ProgressStyle(description_wid…"
      ]
     },
     "metadata": {},
     "output_type": "display_data"
    },
    {
     "name": "stdout",
     "output_type": "stream",
     "text": [
      "PASSED               [ 46%]\n",
      "..\\..\\scqubits\\scqubits\\tests\\test_noise.py::TestNoise::test_Transmon PASSED                                     [ 48%]\n",
      "..\\..\\scqubits\\scqubits\\tests\\test_noise.py::TestNoise::test_TunableTransmon PASSED                              [ 50%]\n",
      "..\\..\\scqubits\\scqubits\\tests\\test_noise.py::TestNoise::test_Fluxonium PASSED                                    [ 51%]\n",
      "..\\..\\scqubits\\scqubits\\tests\\test_noise.py::TestNoise::test_FluxQubit PASSED                                    [ 53%]\n",
      "..\\..\\scqubits\\scqubits\\tests\\test_noise.py::TestNoise::test_ZeroPi PASSED                                       [ 54%]\n",
      "..\\..\\scqubits\\scqubits\\tests\\test_spectrumlookup.py::TestSpectrumLookup::test_hilbertspace_generate_lookup PASSED [ 56%]\n",
      "..\\..\\scqubits\\scqubits\\tests\\test_spectrumlookup.py::TestSpectrumLookup::test_hilbertspace_lookup_bare_eigenenergies PASSED [ 57%]\n",
      "..\\..\\scqubits\\scqubits\\tests\\test_spectrumlookup.py::TestSpectrumLookup::test_hilbertspace_lookup_bare_index PASSED [ 59%]\n",
      "..\\..\\scqubits\\scqubits\\tests\\test_spectrumlookup.py::TestSpectrumLookup::test_hilbertspace_lookup_dressed_index PASSED [ 60%]\n",
      "..\\..\\scqubits\\scqubits\\tests\\test_spectrumlookup.py::TestSpectrumLookup::test_hilbertspace_lookup_bare_eigenstates PASSED [ 62%]\n",
      "..\\..\\scqubits\\scqubits\\tests\\test_spectrumlookup.py::TestParameterSweep::test_sweep_bare_eigenenergies "
     ]
    },
    {
     "data": {
      "application/vnd.jupyter.widget-view+json": {
       "model_id": "",
       "version_major": 2,
       "version_minor": 0
      },
      "text/plain": [
       "HBox(children=(FloatProgress(value=0.0, description='Bare spectra', max=300.0, style=ProgressStyle(description…"
      ]
     },
     "metadata": {},
     "output_type": "display_data"
    },
    {
     "data": {
      "application/vnd.jupyter.widget-view+json": {
       "model_id": "",
       "version_major": 2,
       "version_minor": 0
      },
      "text/plain": [
       "HBox(children=(FloatProgress(value=0.0, description='Dressed spectrum', max=300.0, style=ProgressStyle(descrip…"
      ]
     },
     "metadata": {},
     "output_type": "display_data"
    },
    {
     "name": "stdout",
     "output_type": "stream",
     "text": [
      "PASSED   [ 63%]\n",
      "..\\..\\scqubits\\scqubits\\tests\\test_spectrumlookup.py::TestParameterSweep::test_sweep_bare_eigenstates "
     ]
    },
    {
     "data": {
      "application/vnd.jupyter.widget-view+json": {
       "model_id": "",
       "version_major": 2,
       "version_minor": 0
      },
      "text/plain": [
       "HBox(children=(FloatProgress(value=0.0, description='Bare spectra', max=300.0, style=ProgressStyle(description…"
      ]
     },
     "metadata": {},
     "output_type": "display_data"
    },
    {
     "data": {
      "application/vnd.jupyter.widget-view+json": {
       "model_id": "",
       "version_major": 2,
       "version_minor": 0
      },
      "text/plain": [
       "HBox(children=(FloatProgress(value=0.0, description='Dressed spectrum', max=300.0, style=ProgressStyle(descrip…"
      ]
     },
     "metadata": {},
     "output_type": "display_data"
    },
    {
     "name": "stdout",
     "output_type": "stream",
     "text": [
      "PASSED     [ 65%]\n",
      "..\\..\\scqubits\\scqubits\\tests\\test_transmon.py::TestTransmon::test_hamiltonian_is_hermitean PASSED               [ 66%]\n",
      "..\\..\\scqubits\\scqubits\\tests\\test_transmon.py::TestTransmon::test_eigenvals PASSED                              [ 68%]\n",
      "..\\..\\scqubits\\scqubits\\tests\\test_transmon.py::TestTransmon::test_eigenvecs PASSED                              [ 69%]\n",
      "..\\..\\scqubits\\scqubits\\tests\\test_transmon.py::TestTransmon::test_plot_wavefunction PASSED                      [ 71%]\n",
      "..\\..\\scqubits\\scqubits\\tests\\test_transmon.py::TestTransmon::test_plot_evals_vs_paramvals "
     ]
    },
    {
     "data": {
      "application/vnd.jupyter.widget-view+json": {
       "model_id": "",
       "version_major": 2,
       "version_minor": 0
      },
      "text/plain": [
       "HBox(children=(FloatProgress(value=0.0, description='Spectral data', style=ProgressStyle(description_width='in…"
      ]
     },
     "metadata": {},
     "output_type": "display_data"
    },
    {
     "name": "stdout",
     "output_type": "stream",
     "text": [
      "PASSED                [ 72%]\n",
      "..\\..\\scqubits\\scqubits\\tests\\test_transmon.py::TestTransmon::test_get_spectrum_vs_paramvals "
     ]
    },
    {
     "data": {
      "application/vnd.jupyter.widget-view+json": {
       "model_id": "",
       "version_major": 2,
       "version_minor": 0
      },
      "text/plain": [
       "HBox(children=(FloatProgress(value=0.0, description='Spectral data', max=50.0, style=ProgressStyle(description…"
      ]
     },
     "metadata": {},
     "output_type": "display_data"
    },
    {
     "name": "stdout",
     "output_type": "stream",
     "text": [
      "PASSED              [ 74%]\n",
      "..\\..\\scqubits\\scqubits\\tests\\test_transmon.py::TestTransmon::test_matrixelement_table PASSED                    [ 75%]\n",
      "..\\..\\scqubits\\scqubits\\tests\\test_transmon.py::TestTransmon::test_plot_matrixelements PASSED                    [ 77%]\n",
      "..\\..\\scqubits\\scqubits\\tests\\test_transmon.py::TestTransmon::test_print_matrixelements PASSED                   [ 78%]\n",
      "..\\..\\scqubits\\scqubits\\tests\\test_transmon.py::TestTransmon::test_plot_matelem_vs_paramvals "
     ]
    },
    {
     "data": {
      "application/vnd.jupyter.widget-view+json": {
       "model_id": "",
       "version_major": 2,
       "version_minor": 0
      },
      "text/plain": [
       "HBox(children=(FloatProgress(value=0.0, description='Spectral data', style=ProgressStyle(description_width='in…"
      ]
     },
     "metadata": {},
     "output_type": "display_data"
    },
    {
     "data": {
      "application/vnd.jupyter.widget-view+json": {
       "model_id": "",
       "version_major": 2,
       "version_minor": 0
      },
      "text/plain": [
       "HBox(children=(FloatProgress(value=0.0), HTML(value='')))"
      ]
     },
     "metadata": {},
     "output_type": "display_data"
    },
    {
     "name": "stdout",
     "output_type": "stream",
     "text": [
      "PASSED              [ 80%]\n",
      "..\\..\\scqubits\\scqubits\\tests\\test_transmon.py::TestTransmon::test_plot_potential SKIPPED                        [ 81%]\n",
      "..\\..\\scqubits\\scqubits\\tests\\test_transmon.py::TestTransmon::test_plot_n_wavefunction PASSED                    [ 83%]\n",
      "..\\..\\scqubits\\scqubits\\tests\\test_zeropi.py::TestZeroPi::test_hamiltonian_is_hermitean PASSED                   [ 84%]\n",
      "..\\..\\scqubits\\scqubits\\tests\\test_zeropi.py::TestZeroPi::test_eigenvals PASSED                                  [ 86%]\n",
      "..\\..\\scqubits\\scqubits\\tests\\test_zeropi.py::TestZeroPi::test_eigenvecs PASSED                                  [ 87%]\n",
      "..\\..\\scqubits\\scqubits\\tests\\test_zeropi.py::TestZeroPi::test_plot_wavefunction PASSED                          [ 89%]\n",
      "..\\..\\scqubits\\scqubits\\tests\\test_zeropi.py::TestZeroPi::test_plot_evals_vs_paramvals "
     ]
    },
    {
     "data": {
      "application/vnd.jupyter.widget-view+json": {
       "model_id": "",
       "version_major": 2,
       "version_minor": 0
      },
      "text/plain": [
       "HBox(children=(FloatProgress(value=0.0, description='Spectral data', max=15.0, style=ProgressStyle(description…"
      ]
     },
     "metadata": {},
     "output_type": "display_data"
    },
    {
     "name": "stdout",
     "output_type": "stream",
     "text": [
      "PASSED                    [ 90%]\n",
      "..\\..\\scqubits\\scqubits\\tests\\test_zeropi.py::TestZeroPi::test_get_spectrum_vs_paramvals "
     ]
    },
    {
     "data": {
      "application/vnd.jupyter.widget-view+json": {
       "model_id": "",
       "version_major": 2,
       "version_minor": 0
      },
      "text/plain": [
       "HBox(children=(FloatProgress(value=0.0, description='Spectral data', max=3.0, style=ProgressStyle(description_…"
      ]
     },
     "metadata": {},
     "output_type": "display_data"
    },
    {
     "name": "stdout",
     "output_type": "stream",
     "text": [
      "PASSED                  [ 92%]\n",
      "..\\..\\scqubits\\scqubits\\tests\\test_zeropi.py::TestZeroPi::test_matrixelement_table PASSED                        [ 93%]\n",
      "..\\..\\scqubits\\scqubits\\tests\\test_zeropi.py::TestZeroPi::test_plot_matrixelements PASSED                        [ 95%]\n",
      "..\\..\\scqubits\\scqubits\\tests\\test_zeropi.py::TestZeroPi::test_print_matrixelements PASSED                       [ 96%]\n",
      "..\\..\\scqubits\\scqubits\\tests\\test_zeropi.py::TestZeroPi::test_plot_matelem_vs_paramvals "
     ]
    },
    {
     "data": {
      "application/vnd.jupyter.widget-view+json": {
       "model_id": "",
       "version_major": 2,
       "version_minor": 0
      },
      "text/plain": [
       "HBox(children=(FloatProgress(value=0.0, description='Spectral data', max=15.0, style=ProgressStyle(description…"
      ]
     },
     "metadata": {},
     "output_type": "display_data"
    },
    {
     "data": {
      "application/vnd.jupyter.widget-view+json": {
       "model_id": "",
       "version_major": 2,
       "version_minor": 0
      },
      "text/plain": [
       "HBox(children=(FloatProgress(value=0.0, max=15.0), HTML(value='')))"
      ]
     },
     "metadata": {},
     "output_type": "display_data"
    },
    {
     "name": "stdout",
     "output_type": "stream",
     "text": [
      "PASSED                  [ 98%]\n",
      "..\\..\\scqubits\\scqubits\\tests\\test_zeropi.py::TestZeroPi::test_plot_potential PASSED                             [100%]\n",
      "\n",
      "====================================== 64 passed, 2 skipped in 160.13s (0:02:40) ======================================\n"
     ]
    }
   ],
   "source": [
    "%matplotlib inline\n",
    "%config InlineBackend.figure_format = 'svg'\n",
    "\n",
    "import scqubits.testing as tst\n",
    "tst.run()"
   ]
  },
  {
   "cell_type": "code",
   "execution_count": null,
   "metadata": {},
   "outputs": [],
   "source": []
  }
 ],
 "metadata": {
  "kernelspec": {
   "display_name": "Python 3",
   "language": "python",
   "name": "python3"
  },
  "language_info": {
   "codemirror_mode": {
    "name": "ipython",
    "version": 3
   },
   "file_extension": ".py",
   "mimetype": "text/x-python",
   "name": "python",
   "nbconvert_exporter": "python",
   "pygments_lexer": "ipython3",
   "version": "3.7.7"
  },
  "varInspector": {
   "cols": {
    "lenName": 16,
    "lenType": 16,
    "lenVar": 40
   },
   "kernels_config": {
    "python": {
     "delete_cmd_postfix": "",
     "delete_cmd_prefix": "del ",
     "library": "var_list.py",
     "varRefreshCmd": "print(var_dic_list())"
    },
    "r": {
     "delete_cmd_postfix": ") ",
     "delete_cmd_prefix": "rm(",
     "library": "var_list.r",
     "varRefreshCmd": "cat(var_dic_list()) "
    }
   },
   "types_to_exclude": [
    "module",
    "function",
    "builtin_function_or_method",
    "instance",
    "_Feature"
   ],
   "window_display": false
  }
 },
 "nbformat": 4,
 "nbformat_minor": 2
}
