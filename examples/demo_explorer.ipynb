{
 "cells": [
  {
   "cell_type": "markdown",
   "metadata": {},
   "source": [
    "# scqubits example: the Explorer class\n",
    "J. Koch and P. Groszkowski\n",
    "\n",
    "For further documentation of scqubits see https://scqubits.readthedocs.io/en/latest/.\n",
    "\n",
    "---"
   ]
  },
  {
   "cell_type": "code",
   "execution_count": 1,
   "metadata": {
    "ExecuteTime": {
     "end_time": "2020-02-13T14:26:06.207526Z",
     "start_time": "2020-02-13T14:26:03.363950Z"
    }
   },
   "outputs": [],
   "source": [
    "%matplotlib inline\n",
    "%config InlineBackend.figure_format = 'svg'\n",
    "\n",
    "import numpy as np\n",
    "\n",
    "import scqubits as scq\n",
    "from scqubits import HilbertSpace, InteractionTerm, ParameterSweep, Explorer"
   ]
  },
  {
   "cell_type": "markdown",
   "metadata": {},
   "source": [
    "# The Explorer Class\n",
    "\n",
    "Sometimes, exploring the properties of coupled quantum systems benefits from visual aides, and the possibility to see how properties change when system parameters are changed. The `Explorer` class in scqubits provides an interactive plot with multiple panels collecting an important set of information. \n",
    "\n",
    "The idea behind the `Explorer` class is simple: the user selects an external parameter that they wish to sweep, e.g., an external magnetic flux. The composite system is user-defined through the `HilbertSpace` and `InteractionTerm` classes, allowing flexibility to include different types and numbers of superconducting qubits and harmonic modes.\n",
    "\n",
    "Once defined, the parameter sweep is computed by means of the `ParameterSweep` class, and spectral data is stored in memory to allow efficient, interactive display of data. The `Explorer` plots are currently fixed to:\n",
    "\n",
    "1. Bare spectra of the individual qubits\n",
    "2. Wave functions of the bare qubits\n",
    "3. Dressed spectrum of the composite Hilbert space\n",
    "4. Spectrum for n-photon qubit transitions, starting from a given initial state\n",
    "5. AC Stark shift $\\chi_{01}$ for any of the qubits\n",
    "6. Charge matrix elements for any of the qubits, using the same initial state as in point 4.\n",
    "\n",
    "## Example 1: fluxonium coupled to resonator\n",
    "As a first example, we consider a system composed of a fluxonium qubit, coupled through its charge operator to the voltage inside a resonator.\n",
    "\n",
    "### HilbertSpace setup\n",
    "The initialization of the composite Hilbert space proceeds as usual; we first define the individual two subsystems that will make up the Hilbert space:"
   ]
  },
  {
   "cell_type": "code",
   "execution_count": 2,
   "metadata": {
    "ExecuteTime": {
     "end_time": "2020-02-13T14:26:06.228141Z",
     "start_time": "2020-02-13T14:26:06.213556Z"
    }
   },
   "outputs": [],
   "source": [
    "qbt = scq.Fluxonium(\n",
    "    EJ=2.55,\n",
    "    EC=0.72,\n",
    "    EL=0.12,\n",
    "    flux=0.0,\n",
    "    cutoff=110,\n",
    "    truncated_dim=9\n",
    ")\n",
    "\n",
    "osc = scq.Oscillator(\n",
    "    E_osc=4.0,\n",
    "    truncated_dim=5\n",
    ")"
   ]
  },
  {
   "cell_type": "markdown",
   "metadata": {},
   "source": [
    "Here, the `truncated_dim` parameters are important. For the fluxonium, with `cutoff` set to 110, the internal Hilbert space dimension is 110. Once diagonalized, we will only keep a few eigenstates going forward - in the above example 9. Similarly, we keep 5 levels for the resonators, i.e., photon states n=0,1,...,4 are included in the following.\n",
    "\n",
    "Next, the two subsystems are declared as the two components of a joint Hilbert space:"
   ]
  },
  {
   "cell_type": "code",
   "execution_count": 3,
   "metadata": {
    "ExecuteTime": {
     "end_time": "2020-02-13T14:26:06.252987Z",
     "start_time": "2020-02-13T14:26:06.235033Z"
    }
   },
   "outputs": [],
   "source": [
    "hilbertspace = scq.HilbertSpace([qbt, osc])"
   ]
  },
  {
   "cell_type": "markdown",
   "metadata": {},
   "source": [
    "The interaction between fluxonium and resonator is of the form $H_\\text{int} = g n (a+a^\\dagger)$, where $n$ is the fluxonium's charge operator: `qbt.n_operator()`. This structure is captured by creating an `InteractionTerm` object. Since this is the only interaction term, the `interaction_list` contains only this one term. It is inserted into the `HilbertSpace` object."
   ]
  },
  {
   "cell_type": "code",
   "execution_count": 4,
   "metadata": {
    "ExecuteTime": {
     "end_time": "2020-02-13T14:26:08.346043Z",
     "start_time": "2020-02-13T14:26:08.338054Z"
    }
   },
   "outputs": [
    {
     "name": "stderr",
     "output_type": "stream",
     "text": [
      "FutureWarning: This use of `InteractionTerm` is deprecated and will cease to be supported in the future.\n",
      " c:\\users\\drjen\\onedrive\\coding\\pycharmprojects\\scqubits\\scqubits\\core\\hilbert_space.py: 182FutureWarning: This use of `InteractionTerm` is deprecated and will cease to be supported in the future.\n",
      " c:\\users\\drjen\\onedrive\\coding\\pycharmprojects\\scqubits\\scqubits\\core\\hilbert_space.py: 110"
     ]
    }
   ],
   "source": [
    "interaction = InteractionTerm(\n",
    "    g_strength=0.2,\n",
    "    op1=qbt.n_operator(),\n",
    "    subsys1=qbt,\n",
    "    op2=osc.creation_operator() + osc.annihilation_operator(),\n",
    "    subsys2=osc\n",
    ")\n",
    "\n",
    "interaction_list = [interaction]\n",
    "hilbertspace.interaction_list = interaction_list"
   ]
  },
  {
   "cell_type": "markdown",
   "metadata": {},
   "source": [
    "### Parameter sweep setup\n",
    "We consider sweeping the external flux through the fluxonium loop. To create the necessary `ParameterSweep` object, we specify:\n",
    "1. `param_name`: the name of the sweep parameter (below expressed in LaTeX format as the flux in units of the flux quantum)\n",
    "2. `param_vals`: an array with the flux values used in the sweep\n",
    "3. `subsys_update_list`: a list containing all Hilbert space subsystems that change as the flux is varied\n",
    "4. `update_hilbertspace(param_val)`: a function that shows how a change in the sweep parameter affects the Hilbert space; here only the `.flux` attributed of the fluxonium qubit needs to be changed\n",
    "\n",
    "These ingredients all make it into the initialization of the `ParameterSweep` object. Once initialized, spectral data is generated and stored. Here, we additionally generate data for dispersive shifts and charge matrix elements."
   ]
  },
  {
   "cell_type": "code",
   "execution_count": 5,
   "metadata": {
    "ExecuteTime": {
     "end_time": "2020-02-13T14:26:13.431122Z",
     "start_time": "2020-02-13T14:26:09.721855Z"
    }
   },
   "outputs": [
    {
     "name": "stderr",
     "output_type": "stream",
     "text": [
      "FutureWarning: The implementation of the `ParameterSweep` class has changed and this old-style interface will cease to be supported in the future.\n",
      " c:\\users\\drjen\\onedrive\\coding\\pycharmprojects\\scqubits\\scqubits\\core\\param_sweep.py: 646"
     ]
    },
    {
     "data": {
      "application/vnd.jupyter.widget-view+json": {
       "model_id": "",
       "version_major": 2,
       "version_minor": 0
      },
      "text/plain": [
       "HBox(children=(HTML(value='Bare spectra'), FloatProgress(value=0.0), HTML(value='')))"
      ]
     },
     "metadata": {},
     "output_type": "display_data"
    },
    {
     "data": {
      "application/vnd.jupyter.widget-view+json": {
       "model_id": "",
       "version_major": 2,
       "version_minor": 0
      },
      "text/plain": [
       "HBox(children=(HTML(value='Dressed spectrum'), FloatProgress(value=0.0), HTML(value='')))"
      ]
     },
     "metadata": {},
     "output_type": "display_data"
    }
   ],
   "source": [
    "param_name = r'$\\Phi_{ext}/\\Phi_0$'\n",
    "param_vals = np.linspace(-0.5, 0.5, 100)\n",
    "\n",
    "subsys_update_list = [qbt]\n",
    "\n",
    "\n",
    "def update_hilbertspace(param_val):\n",
    "    qbt.flux = param_val\n",
    "\n",
    "\n",
    "sweep = ParameterSweep(\n",
    "    param_name=param_name,\n",
    "    param_vals=param_vals,\n",
    "    evals_count=10,\n",
    "    hilbertspace=hilbertspace,\n",
    "    subsys_update_list=subsys_update_list,\n",
    "    update_hilbertspace=update_hilbertspace,\n",
    ")"
   ]
  },
  {
   "cell_type": "markdown",
   "metadata": {},
   "source": [
    "### Starting the Explorer class\n",
    "At this point, everything is prepared to start the interactive `Explorer` and play with the interactive display!"
   ]
  },
  {
   "cell_type": "code",
   "execution_count": 6,
   "metadata": {
    "ExecuteTime": {
     "end_time": "2020-02-13T14:26:20.251368Z",
     "start_time": "2020-02-13T14:26:17.313557Z"
    }
   },
   "outputs": [
    {
     "data": {
      "application/vnd.jupyter.widget-view+json": {
       "model_id": "",
       "version_major": 2,
       "version_minor": 0
      },
      "text/plain": [
       "HBox(children=(HTML(value='data sweep'), FloatProgress(value=0.0), HTML(value='')))"
      ]
     },
     "metadata": {},
     "output_type": "display_data"
    },
    {
     "data": {
      "application/vnd.jupyter.widget-view+json": {
       "model_id": "",
       "version_major": 2,
       "version_minor": 0
      },
      "text/plain": [
       "HBox(children=(HTML(value='data sweep'), FloatProgress(value=0.0), HTML(value='')))"
      ]
     },
     "metadata": {},
     "output_type": "display_data"
    },
    {
     "data": {
      "application/vnd.jupyter.widget-view+json": {
       "model_id": "68257bb30aac47d084afcbda234c6984",
       "version_major": 2,
       "version_minor": 0
      },
      "text/plain": [
       "HBox(children=(VBox(children=(FloatSlider(value=0.0, continuous_update=False, description='$\\\\Phi_{ext}/\\\\Phi_…"
      ]
     },
     "metadata": {},
     "output_type": "display_data"
    },
    {
     "data": {
      "application/vnd.jupyter.widget-view+json": {
       "model_id": "8ddcd468c3a44d3c851c38b2d3647b63",
       "version_major": 2,
       "version_minor": 0
      },
      "text/plain": [
       "Output()"
      ]
     },
     "metadata": {},
     "output_type": "display_data"
    }
   ],
   "source": [
    "explorer = Explorer(\n",
    "    sweep=sweep,\n",
    "    evals_count=10\n",
    ")\n",
    "explorer.interact()"
   ]
  },
  {
   "cell_type": "markdown",
   "metadata": {},
   "source": [
    "## Example 2:  two transmons coupled to a resonator\n",
    "In the following second example, we consider a system composed of two flux-tunable transmons, capacitively coupled to one joint harmonic mode. (The flux is assumed to arise from a global field, and the SQUID-loop areas of the two transmons are different with an area ratio of 1.4) \n",
    "\n",
    "### Hilbert space setup"
   ]
  },
  {
   "cell_type": "code",
   "execution_count": 7,
   "metadata": {},
   "outputs": [
    {
     "name": "stderr",
     "output_type": "stream",
     "text": [
      "FutureWarning: This use of `InteractionTerm` is deprecated and will cease to be supported in the future.\n",
      " c:\\users\\drjen\\onedrive\\coding\\pycharmprojects\\scqubits\\scqubits\\core\\hilbert_space.py: 182FutureWarning: This use of `InteractionTerm` is deprecated and will cease to be supported in the future.\n",
      " c:\\users\\drjen\\onedrive\\coding\\pycharmprojects\\scqubits\\scqubits\\core\\hilbert_space.py: 110"
     ]
    }
   ],
   "source": [
    "qbt1 = scq.Transmon(\n",
    "     EJ=25.0,\n",
    "     EC=0.2,\n",
    "     ng=0,\n",
    "     ncut=30,\n",
    "     truncated_dim=3)\n",
    "\n",
    "qbt2 = scq.Transmon(\n",
    "     EJ=15.0,\n",
    "     EC=0.15,\n",
    "     ng=0,\n",
    "     ncut=30,\n",
    "     truncated_dim=3)\n",
    "\n",
    "\n",
    "resonator = scq.Oscillator(\n",
    "    E_osc=5.5,\n",
    "    truncated_dim=4)\n",
    "\n",
    "hilbertspace = HilbertSpace([qbt1, qbt2, resonator])\n",
    "\n",
    "\n",
    "g1 = 0.1  # coupling resonator-CPB1 (without charge matrix elements)\n",
    "g2 = 0.2  # coupling resonator-CPB2 (without charge matrix elements)\n",
    "\n",
    "interaction1 = InteractionTerm(\n",
    "    g_strength = g1,\n",
    "    op1 = qbt1.n_operator(),\n",
    "    subsys1 = qbt1,\n",
    "    op2 = resonator.creation_operator() + resonator.annihilation_operator(),\n",
    "    subsys2 =resonator\n",
    ")\n",
    "\n",
    "interaction2 = InteractionTerm(\n",
    "    g_strength = g2,\n",
    "    op1 = qbt2.n_operator(),\n",
    "    subsys1 = qbt2,\n",
    "    op2 = resonator.creation_operator() + resonator.annihilation_operator(),\n",
    "    subsys2 =resonator\n",
    ")\n",
    "\n",
    "\n",
    "\n",
    "interaction_list = [interaction1, interaction2]\n",
    "hilbertspace.interaction_list = interaction_list"
   ]
  },
  {
   "cell_type": "markdown",
   "metadata": {},
   "source": [
    "### Parameter sweep setup"
   ]
  },
  {
   "cell_type": "code",
   "execution_count": 8,
   "metadata": {},
   "outputs": [
    {
     "name": "stderr",
     "output_type": "stream",
     "text": [
      "FutureWarning: The implementation of the `ParameterSweep` class has changed and this old-style interface will cease to be supported in the future.\n",
      " c:\\users\\drjen\\onedrive\\coding\\pycharmprojects\\scqubits\\scqubits\\core\\param_sweep.py: 646"
     ]
    },
    {
     "data": {
      "application/vnd.jupyter.widget-view+json": {
       "model_id": "",
       "version_major": 2,
       "version_minor": 0
      },
      "text/plain": [
       "HBox(children=(HTML(value='Bare spectra'), FloatProgress(value=0.0, max=150.0), HTML(value='')))"
      ]
     },
     "metadata": {},
     "output_type": "display_data"
    },
    {
     "data": {
      "application/vnd.jupyter.widget-view+json": {
       "model_id": "",
       "version_major": 2,
       "version_minor": 0
      },
      "text/plain": [
       "HBox(children=(HTML(value='Dressed spectrum'), FloatProgress(value=0.0, max=150.0), HTML(value='')))"
      ]
     },
     "metadata": {},
     "output_type": "display_data"
    }
   ],
   "source": [
    "param_name = r'$\\Phi_{ext}/\\Phi_0$'\n",
    "param_vals = np.linspace(0.0, 1.0, 150)\n",
    "\n",
    "subsys_update_list = [qbt1, qbt2]\n",
    "\n",
    "\n",
    "def update_hilbertspace(param_val):     # function that shows how Hilbert space components are updated\n",
    "    qbt1.EJ = 30*np.abs(np.cos(np.pi * param_val))\n",
    "    qbt2.EJ = 40*np.abs(np.cos(np.pi * param_val * 2))\n",
    "    \n",
    "\n",
    "sweep = ParameterSweep(\n",
    "    param_name=param_name,\n",
    "    param_vals=param_vals,\n",
    "    evals_count=15,\n",
    "    hilbertspace=hilbertspace,\n",
    "    subsys_update_list=subsys_update_list,\n",
    "    update_hilbertspace=update_hilbertspace,\n",
    ")"
   ]
  },
  {
   "cell_type": "markdown",
   "metadata": {},
   "source": [
    "### Start Explorer"
   ]
  },
  {
   "cell_type": "code",
   "execution_count": 9,
   "metadata": {},
   "outputs": [
    {
     "data": {
      "application/vnd.jupyter.widget-view+json": {
       "model_id": "",
       "version_major": 2,
       "version_minor": 0
      },
      "text/plain": [
       "HBox(children=(HTML(value='data sweep'), FloatProgress(value=0.0, max=150.0), HTML(value='')))"
      ]
     },
     "metadata": {},
     "output_type": "display_data"
    },
    {
     "data": {
      "application/vnd.jupyter.widget-view+json": {
       "model_id": "",
       "version_major": 2,
       "version_minor": 0
      },
      "text/plain": [
       "HBox(children=(HTML(value='data sweep'), FloatProgress(value=0.0, max=150.0), HTML(value='')))"
      ]
     },
     "metadata": {},
     "output_type": "display_data"
    },
    {
     "data": {
      "application/vnd.jupyter.widget-view+json": {
       "model_id": "",
       "version_major": 2,
       "version_minor": 0
      },
      "text/plain": [
       "HBox(children=(HTML(value='data sweep'), FloatProgress(value=0.0, max=150.0), HTML(value='')))"
      ]
     },
     "metadata": {},
     "output_type": "display_data"
    },
    {
     "data": {
      "application/vnd.jupyter.widget-view+json": {
       "model_id": "",
       "version_major": 2,
       "version_minor": 0
      },
      "text/plain": [
       "HBox(children=(HTML(value='data sweep'), FloatProgress(value=0.0, max=150.0), HTML(value='')))"
      ]
     },
     "metadata": {},
     "output_type": "display_data"
    },
    {
     "data": {
      "application/vnd.jupyter.widget-view+json": {
       "model_id": "0433634bb2e245ee8e1f933c2f712015",
       "version_major": 2,
       "version_minor": 0
      },
      "text/plain": [
       "HBox(children=(VBox(children=(FloatSlider(value=0.0, continuous_update=False, description='$\\\\Phi_{ext}/\\\\Phi_…"
      ]
     },
     "metadata": {},
     "output_type": "display_data"
    },
    {
     "data": {
      "application/vnd.jupyter.widget-view+json": {
       "model_id": "ce738810860041b8a1bd31cd3f7f5733",
       "version_major": 2,
       "version_minor": 0
      },
      "text/plain": [
       "Output()"
      ]
     },
     "metadata": {},
     "output_type": "display_data"
    }
   ],
   "source": [
    "explorer = Explorer(\n",
    "    sweep=sweep,\n",
    "    evals_count=10\n",
    ")\n",
    "explorer.interact()"
   ]
  },
  {
   "cell_type": "code",
   "execution_count": null,
   "metadata": {},
   "outputs": [],
   "source": []
  }
 ],
 "metadata": {
  "kernelspec": {
   "display_name": "Python 3",
   "language": "python",
   "name": "python3"
  },
  "language_info": {
   "codemirror_mode": {
    "name": "ipython",
    "version": 3
   },
   "file_extension": ".py",
   "mimetype": "text/x-python",
   "name": "python",
   "nbconvert_exporter": "python",
   "pygments_lexer": "ipython3",
   "version": "3.8.5"
  },
  "pycharm": {
   "stem_cell": {
    "cell_type": "raw",
    "metadata": {
     "collapsed": false
    },
    "source": []
   }
  },
  "toc": {
   "base_numbering": 1,
   "nav_menu": {},
   "number_sections": false,
   "sideBar": true,
   "skip_h1_title": true,
   "title_cell": "Table of Contents",
   "title_sidebar": "Contents",
   "toc_cell": false,
   "toc_position": {},
   "toc_section_display": true,
   "toc_window_display": true
  }
 },
 "nbformat": 4,
 "nbformat_minor": 4
}
